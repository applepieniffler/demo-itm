{
 "cells": [
  {
   "cell_type": "code",
   "execution_count": 1,
   "id": "43b59996-fccf-4fb8-8db0-d82ccc62bc5d",
   "metadata": {},
   "outputs": [
    {
     "name": "stdout",
     "output_type": "stream",
     "text": [
      "h\n",
      "e\n",
      "l\n",
      "l\n",
      "o\n"
     ]
    }
   ],
   "source": [
    "message = \"hello\"\n",
    "\n",
    "for i in range(0, len(message)):\n",
    "\t\tprint(message[i])"
   ]
  },
  {
   "cell_type": "code",
   "execution_count": 2,
   "id": "9b0f5c02-25f9-4b26-9072-f821dd801ef2",
   "metadata": {},
   "outputs": [
    {
     "name": "stdout",
     "output_type": "stream",
     "text": [
      "0 h\n",
      "1 e\n",
      "2 l\n",
      "3 l\n",
      "4 o\n"
     ]
    }
   ],
   "source": [
    "message = \"hello\"\n",
    "for i, letter in enumerate(message):\n",
    "\t\tprint(i, letter)"
   ]
  },
  {
   "cell_type": "code",
   "execution_count": 3,
   "id": "524c3f42-e774-46a6-885d-b82d7d03d074",
   "metadata": {},
   "outputs": [
    {
     "name": "stdout",
     "output_type": "stream",
     "text": [
      "1\n",
      "3\n",
      "5\n",
      "7\n",
      "9\n"
     ]
    }
   ],
   "source": [
    "for number in range(1, 11):\n",
    "\t\t# Skip even numbers\n",
    "\t\tif number % 2 == 0:\n",
    "\t\t\t\tcontinue\n",
    "\t\tprint(number)"
   ]
  },
  {
   "cell_type": "code",
   "execution_count": 4,
   "id": "109dfba3-7a68-45c1-b68c-2ddb5cfe361f",
   "metadata": {},
   "outputs": [
    {
     "name": "stdout",
     "output_type": "stream",
     "text": [
      "Not yet...\n",
      "Not yet...\n",
      "Not yet...\n",
      "Not yet...\n",
      "Number found!\n"
     ]
    }
   ],
   "source": [
    "# Search for the number 5 in a list\n",
    "numbers = [1, 2, 3, 4, 5, 6, 7, 8, 9, 10]\n",
    "\n",
    "for number in numbers:\n",
    "\t\tif number == 5:\n",
    "\t\t\t\tprint(\"Number found!\")\n",
    "\t\t\t\tbreak\n",
    "\t\telse:\n",
    "\t\t\t\tprint(\"Not yet...\")"
   ]
  }
 ],
 "metadata": {
  "kernelspec": {
   "display_name": "Python 3 (ipykernel)",
   "language": "python",
   "name": "python3"
  },
  "language_info": {
   "codemirror_mode": {
    "name": "ipython",
    "version": 3
   },
   "file_extension": ".py",
   "mimetype": "text/x-python",
   "name": "python",
   "nbconvert_exporter": "python",
   "pygments_lexer": "ipython3",
   "version": "3.10.9"
  }
 },
 "nbformat": 4,
 "nbformat_minor": 5
}
