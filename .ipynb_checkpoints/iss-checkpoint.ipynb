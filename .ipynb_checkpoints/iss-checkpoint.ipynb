{
 "cells": [
  {
   "cell_type": "code",
   "execution_count": null,
   "id": "9257cda2-cb2e-4aec-8097-72fb34f59643",
   "metadata": {},
   "outputs": [],
   "source": [
    "import matplotlib.pyplot as plt \n",
    "import requests \n",
    "import time \n",
    "\n",
    "data_points=[]\n",
    "start=time.time()\n",
    "for i in range(100):\n",
    "    iss = requests.get(\"http://api.open-notify.org/iss-now.json\")\n",
    "    data = iss.json()\n",
    "    latitude = float(data[\"iss_position\"][\"latitude\"])\n",
    "    longitude = float(data[\"iss_position\"][\"longitude\"])\n",
    "    timestamp = data[\"timestamp\"]\n",
    "    print(latitude, longitude, timestamp)\n",
    "    \n",
    "    data_points.append((latitude, longitude, timestamp))\n",
    "    time.sleep(10.0)\n",
    "    \n",
    "latitudes = [point[0] for point in data_points]\n",
    "longitudes = [point[1] for point in data_points]\n",
    "\n",
    "plt.plot(longitude_list, latitude_list)\n",
    "plt.xlabel(\"Longitude\")\n",
    "plt.ylabel(\"Latitude\")\n",
    "plt.title(\"Path of ISS\")\n",
    "plt.show()"
   ]
  }
 ],
 "metadata": {
  "kernelspec": {
   "display_name": "Python 3 (ipykernel)",
   "language": "python",
   "name": "python3"
  },
  "language_info": {
   "codemirror_mode": {
    "name": "ipython",
    "version": 3
   },
   "file_extension": ".py",
   "mimetype": "text/x-python",
   "name": "python",
   "nbconvert_exporter": "python",
   "pygments_lexer": "ipython3",
   "version": "3.10.9"
  }
 },
 "nbformat": 4,
 "nbformat_minor": 5
}
