{
 "cells": [
  {
   "cell_type": "code",
   "execution_count": null,
   "id": "9e02a47e-2d26-4169-ab03-cc7c4078e89b",
   "metadata": {},
   "outputs": [],
   "source": [
    "def relationship_status(from_member, to_member, social_graph):\n",
    "    '''Relationship Status.\n",
    "    20 points.\n",
    "\n",
    "    Let us pretend that you are building a new app.\n",
    "    Your app supports social media functionality, which means that users can have\n",
    "    relationships with other users.\n",
    "\n",
    "    There are two guidelines for describing relationships on this social media app:\n",
    "    1. Any user can follow any other user.\n",
    "    2. If two users follow each other, they are considered friends.\n",
    "\n",
    "    This function describes the relationship that two users have with each other.\n",
    "\n",
    "    Please see \"assignment-4-sample-data.py\" for sample data. The social graph\n",
    "    will adhere to the same pattern.\n",
    "\n",
    "    Parameters\n",
    "    ----------\n",
    "    from_member: str\n",
    "        the subject member\n",
    "    to_member: str\n",
    "        the object member\n",
    "    social_graph: dict\n",
    "        the relationship data\n",
    "\n",
    "    Returns\n",
    "    -------\n",
    "    str\n",
    "        \"follower\" if fromMember follows toMember,\n",
    "        \"followed by\" if fromMember is followed by toMember,\n",
    "        \"friends\" if fromMember and toMember follow each other,\n",
    "        \"no relationship\" if neither fromMember nor toMember follow each other.\n",
    "    '''\n",
    "    # Replace `pass` with your code.\n",
    "    # Stay within the function. Only use the parameters as input. The function should return your answer.\n",
    "    pass"
   ]
  },
  {
   "cell_type": "code",
   "execution_count": null,
   "id": "fccdf5b7-f738-4865-9994-54916b7d7273",
   "metadata": {},
   "outputs": [],
   "source": []
  },
  {
   "cell_type": "code",
   "execution_count": 489,
   "id": "a18d70be-fb2b-482a-bed6-d980f3c93c52",
   "metadata": {},
   "outputs": [],
   "source": [
    "def vigenere_cipher(message, key):\n",
    "    '''Vigenere Cipher.\n",
    "    15 points.\n",
    "\n",
    "    Encrypts a message using a keyphrase instead of a static number.\n",
    "    Every letter in the message is shifted by the number represented by the\n",
    "        respective letter in the key.\n",
    "    Spaces should be ignored.\n",
    "\n",
    "    Example:\n",
    "    vigenere_cipher(\"A C\", \"KEY\") -> \"K A\"\n",
    "\n",
    "    If needed, the keyphrase is extended to match the length of the key.\n",
    "        If the key is \"KEY\" and the message is \"LONGTEXT\",\n",
    "        the key will be extended to be \"KEYKEYKE\".\n",
    "\n",
    "    Parameters\n",
    "    ----------\n",
    "    message: str\n",
    "        a string of uppercase English letters and spaces.\n",
    "    key: str\n",
    "        a string of uppercase English letters. Will never be longer than the message.\n",
    "        Will never contain spaces.\n",
    "\n",
    "    Returns\n",
    "    -------\n",
    "    str\n",
    "        the message, shifted appropriately.\n",
    "    '''\n",
    "    # Replace `pass` with your code.\n",
    "    # Stay within the function. Only use the parameters as input. The function should return your answer.\n",
    "    \n",
    "    \n",
    "    set_message = [ord(letter) for letter in message]\n",
    "    set_key = [ord(letter) for letter in key]\n",
    "    \n",
    "    cipher = \"\"\n",
    "    \n",
    "    for letter in range(len(message)):\n",
    "        if message[letter] == \" \":\n",
    "            cipher += \" \"\n",
    "        elif 65 <= ord(message[letter]) <= 90:\n",
    "            cipher += chr(((set_message[letter])+(set_key[letter % len(key)]))%26+65)\n",
    "        else:\n",
    "            cipher = \"error\"\n",
    "    \n",
    "    a = cipher.count(\"error\")\n",
    "    \n",
    "    if a>=1:\n",
    "        cipher_final=\"error\"\n",
    "    else:\n",
    "        cipher_final = cipher\n",
    "    \n",
    "    return (cipher_final)"
   ]
  },
  {
   "cell_type": "code",
   "execution_count": 497,
   "id": "f5b991cb-174d-43e9-8afb-11c11c99da18",
   "metadata": {},
   "outputs": [
    {
     "data": {
      "text/plain": [
       "'VSLQXCHX'"
      ]
     },
     "execution_count": 497,
     "metadata": {},
     "output_type": "execute_result"
    }
   ],
   "source": [
    "vigenere_cipher(\"LONGTEXT\",\"KEY\")"
   ]
  }
 ],
 "metadata": {
  "kernelspec": {
   "display_name": "Python 3 (ipykernel)",
   "language": "python",
   "name": "python3"
  },
  "language_info": {
   "codemirror_mode": {
    "name": "ipython",
    "version": 3
   },
   "file_extension": ".py",
   "mimetype": "text/x-python",
   "name": "python",
   "nbconvert_exporter": "python",
   "pygments_lexer": "ipython3",
   "version": "3.10.9"
  }
 },
 "nbformat": 4,
 "nbformat_minor": 5
}
