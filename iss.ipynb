{
 "cells": [
  {
   "cell_type": "code",
   "execution_count": 14,
   "id": "9257cda2-cb2e-4aec-8097-72fb34f59643",
   "metadata": {},
   "outputs": [
    {
     "name": "stdout",
     "output_type": "stream",
     "text": [
      "-5.0636 129.5137 1688813626\n"
     ]
    },
    {
     "ename": "KeyboardInterrupt",
     "evalue": "",
     "output_type": "error",
     "traceback": [
      "\u001b[0;31m---------------------------------------------------------------------------\u001b[0m",
      "\u001b[0;31mKeyboardInterrupt\u001b[0m                         Traceback (most recent call last)",
      "Cell \u001b[0;32mIn[14], line 16\u001b[0m\n\u001b[1;32m     13\u001b[0m     \u001b[38;5;28mprint\u001b[39m(latitude, longitude, timestamp)\n\u001b[1;32m     15\u001b[0m     data_points\u001b[38;5;241m.\u001b[39mappend((latitude, longitude, timestamp))\n\u001b[0;32m---> 16\u001b[0m     \u001b[43mtime\u001b[49m\u001b[38;5;241;43m.\u001b[39;49m\u001b[43msleep\u001b[49m\u001b[43m(\u001b[49m\u001b[38;5;241;43m10.0\u001b[39;49m\u001b[43m)\u001b[49m\n\u001b[1;32m     18\u001b[0m latitudes \u001b[38;5;241m=\u001b[39m [point[\u001b[38;5;241m0\u001b[39m] \u001b[38;5;28;01mfor\u001b[39;00m point \u001b[38;5;129;01min\u001b[39;00m data_points]\n\u001b[1;32m     19\u001b[0m longitudes \u001b[38;5;241m=\u001b[39m [point[\u001b[38;5;241m1\u001b[39m] \u001b[38;5;28;01mfor\u001b[39;00m point \u001b[38;5;129;01min\u001b[39;00m data_points]\n",
      "\u001b[0;31mKeyboardInterrupt\u001b[0m: "
     ]
    }
   ],
   "source": [
    "import matplotlib.pyplot as plt \n",
    "import requests \n",
    "import time \n",
    "\n",
    "data_points=[]\n",
    "start=time.time()\n",
    "for i in range(100):\n",
    "    iss = requests.get(\"http://api.open-notify.org/iss-now.json\")\n",
    "    data = iss.json()\n",
    "    latitude = float(data[\"iss_position\"][\"latitude\"])\n",
    "    longitude = float(data[\"iss_position\"][\"longitude\"])\n",
    "    timestamp = data[\"timestamp\"]\n",
    "    print(latitude, longitude, timestamp)\n",
    "    \n",
    "    data_points.append((latitude, longitude, timestamp))\n",
    "    time.sleep(10.0)\n",
    "    \n",
    "latitudes = [point[0] for point in data_points]\n",
    "longitudes = [point[1] for point in data_points]\n",
    "\n",
    "plt.plot(longitudes, latitudes)\n",
    "plt.xlabel(\"Longitude\")\n",
    "plt.ylabel(\"Latitude\")\n",
    "plt.title(\"Path of ISS\")\n",
    "plt.show()"
   ]
  }
 ],
 "metadata": {
  "kernelspec": {
   "display_name": "Python 3 (ipykernel)",
   "language": "python",
   "name": "python3"
  },
  "language_info": {
   "codemirror_mode": {
    "name": "ipython",
    "version": 3
   },
   "file_extension": ".py",
   "mimetype": "text/x-python",
   "name": "python",
   "nbconvert_exporter": "python",
   "pygments_lexer": "ipython3",
   "version": "3.10.9"
  }
 },
 "nbformat": 4,
 "nbformat_minor": 5
}
